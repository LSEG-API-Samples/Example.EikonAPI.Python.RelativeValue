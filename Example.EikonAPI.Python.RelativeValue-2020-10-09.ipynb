{
 "cells": [
  {
   "cell_type": "markdown",
   "metadata": {},
   "source": [
    "## Import packages and app key"
   ]
  },
  {
   "cell_type": "code",
   "execution_count": null,
   "metadata": {},
   "outputs": [],
   "source": [
    "import refinitiv.dataplatform as rdp\n",
    "import refinitiv.dataplatform.legacy as ek\n",
    "\n",
    "import pandas as pd\n",
    "import plotly.express as px\n",
    "\n",
    "rdp.open_desktop_session('DEFAULT_CODE_BOOK_APP_KEY')\n",
    "\n",
    "#Displays all the columns and rows - useful in the dev process\n",
    "#pd.set_option('display.max_columns', None)\n",
    "#pd.set_option('display.max_rows', None)"
   ]
  },
  {
   "cell_type": "markdown",
   "metadata": {},
   "source": [
    "## <u> Gather data </u>"
   ]
  },
  {
   "cell_type": "markdown",
   "metadata": {},
   "source": [
    "## Search for RICs, get it to a list"
   ]
  },
  {
   "cell_type": "markdown",
   "metadata": {},
   "source": [
    "#### Example: Search for Brazil global sovereign bonds\n",
    "            in USD with a duration greater than 1"
   ]
  },
  {
   "cell_type": "code",
   "execution_count": null,
   "metadata": {},
   "outputs": [],
   "source": [
    "df = rdp.search(\n",
    "    view=rdp.SearchViews.FixedIncomeInstruments,\n",
    "    filter = \"IndustrySectorDescription eq 'Sovereign' and \\\n",
    "              IssuerCountryName eq 'Brazil' and \\\n",
    "              OptionAdjustedDuration gt 1 and \\\n",
    "              Currency eq 'USD'\",\n",
    "    select =\"RIC, ISIN, MaturityDate, CouponRate ,Currency,IndustrySector, FaceOutstandingUSD, DocumentTitle, IssuerCountryName, OptionAdjustedDuration\",\n",
    "    top=100\n",
    "    )\n",
    "df\n"
   ]
  },
  {
   "cell_type": "markdown",
   "metadata": {},
   "source": [
    "### Convert RICs from search results to 'list' type format\n",
    "#### get_data wants a list!"
   ]
  },
  {
   "cell_type": "code",
   "execution_count": null,
   "metadata": {},
   "outputs": [],
   "source": [
    "rics = df['RIC']\n",
    "ricList = df['RIC'].tolist()   # Get data expects a list, not a series\n",
    "\n",
    "display(ricList)\n",
    "display(type(rics))\n",
    "display(type(ricList))\n"
   ]
  },
  {
   "cell_type": "markdown",
   "metadata": {},
   "source": [
    "### Set the fields"
   ]
  },
  {
   "cell_type": "code",
   "execution_count": null,
   "metadata": {},
   "outputs": [],
   "source": [
    "#Bringing in my fields - the Data Item Browser and Code Creator are your friends!\n",
    "#I used both the DIB and CODECD\n",
    "\n",
    "fields = ['CF_DATE',\n",
    "          'TR.CouponRate',\n",
    "          'TR.ISIN',\n",
    "          'TR.IssuerRating',\n",
    "          'TR.FiDescription',\n",
    "          'TR.FiFirstCouponDate',\n",
    "          'TR.FIIssuerName',\n",
    "          'TR.FiMaturityDate',\n",
    "          'TR.CA.AmtOutstanding',\n",
    "          'TR.BENCHMARKSPREAD',\n",
    "          'TR.ZSPREAD', \n",
    "          'TR.MODIFIEDDURATION',   \n",
    "          'TR.GR.Rating'\n",
    "          'TR.ASSETSWAPSPREAD',\n",
    "         ]"
   ]
  },
  {
   "cell_type": "markdown",
   "metadata": {},
   "source": [
    "### Populate a dataframe with real-time data"
   ]
  },
  {
   "cell_type": "code",
   "execution_count": null,
   "metadata": {},
   "outputs": [],
   "source": [
    "df, err = ek.get_data(ricList, fields)  #pass my rics and fields to get_data function\n",
    "df"
   ]
  },
  {
   "cell_type": "markdown",
   "metadata": {},
   "source": [
    "# <u><i> Plot the data... </i></u>"
   ]
  },
  {
   "cell_type": "markdown",
   "metadata": {},
   "source": [
    "## Simple scatter plot with a <i>single</i> Y variable"
   ]
  },
  {
   "cell_type": "code",
   "execution_count": null,
   "metadata": {},
   "outputs": [],
   "source": [
    "fig = px.scatter(df, x=\"Modified Duration\", y=\"Z Spread\")\n",
    "\n",
    "fig.show()"
   ]
  },
  {
   "cell_type": "markdown",
   "metadata": {},
   "source": [
    "### Add a third dimension"
   ]
  },
  {
   "cell_type": "code",
   "execution_count": null,
   "metadata": {},
   "outputs": [],
   "source": [
    "#First, reduce size outstanding to factor in millions\n",
    "df['Amount Outstanding'] = df['Amount Outstanding']/1000000"
   ]
  },
  {
   "cell_type": "code",
   "execution_count": null,
   "metadata": {},
   "outputs": [],
   "source": [
    "fig = px.scatter(df, x=\"Modified Duration\", y=\"Z Spread\", size='Amount Outstanding',size_max=60)\n",
    "\n",
    "fig.show()"
   ]
  },
  {
   "cell_type": "markdown",
   "metadata": {},
   "source": [
    "## Let's plot <i>multiple</i> Y variables - Z Spread vs. Benchmark"
   ]
  },
  {
   "cell_type": "markdown",
   "metadata": {},
   "source": [
    "### Convert the data to 'long' format for plotly express (Newer versions consume wide-format natively)"
   ]
  },
  {
   "cell_type": "code",
   "execution_count": null,
   "metadata": {},
   "outputs": [],
   "source": [
    "#Original dataframe with a column for both 'Z-Spread' and 'Benchmark Spread'\n",
    "df.head(1)"
   ]
  },
  {
   "cell_type": "code",
   "execution_count": null,
   "metadata": {},
   "outputs": [],
   "source": [
    "df_long=pd.melt(df,id_vars=['Description','Instrument','Issuer Name','Maturity Date','Coupon Rate','Modified Duration','Amount Outstanding'], \n",
    "                value_vars=['Z Spread','Benchmark Spread'],var_name='Spread',value_name='bps') \n",
    "df_long"
   ]
  },
  {
   "cell_type": "markdown",
   "metadata": {},
   "source": [
    "### Plot it"
   ]
  },
  {
   "cell_type": "code",
   "execution_count": null,
   "metadata": {},
   "outputs": [],
   "source": [
    "fig = px.scatter(df_long, x='Modified Duration', y='bps', size='Amount Outstanding', size_max=60)\n",
    "\n",
    "fig.show()"
   ]
  },
  {
   "cell_type": "markdown",
   "metadata": {},
   "source": [
    "### Enhance it - hover data, colors, themes"
   ]
  },
  {
   "cell_type": "code",
   "execution_count": null,
   "metadata": {},
   "outputs": [],
   "source": [
    "df_long.info()"
   ]
  },
  {
   "cell_type": "code",
   "execution_count": null,
   "metadata": {},
   "outputs": [],
   "source": [
    "fig = px.scatter(df_long, x='Modified Duration', y='bps',color='Spread',size='Amount Outstanding', size_max=45,   #Change the colors!\n",
    "                 hover_name='Instrument', \n",
    "                 #hover_data=['Desciption']#,'Issuer Name','Coupon Rate','Maturity Date','Modified Duration']# ,'Amount Outstanding'],\n",
    "                 height=800,\n",
    "                 template='plotly_dark' #Dark template - matches codebook nicely!\n",
    "                )\n",
    "fig.show()"
   ]
  },
  {
   "cell_type": "markdown",
   "metadata": {},
   "source": [
    "# <u> Another Dimension... </u>"
   ]
  },
  {
   "cell_type": "markdown",
   "metadata": {},
   "source": [
    "## How would this data look <i>over time</i>?"
   ]
  },
  {
   "cell_type": "markdown",
   "metadata": {},
   "source": [
    "### Populate a dataframe with time-series data"
   ]
  },
  {
   "cell_type": "code",
   "execution_count": null,
   "metadata": {},
   "outputs": [],
   "source": [
    "#### Set new fields \n",
    "ts_fields = ['TR.ZSPREAD','TR.BENCHMARKSPREAD','TR.MODIFIEDDURATION','TR.ZSPREAD.date']  \n",
    "\n",
    "#Time-series and real-time fields can be different!  Just because you can get a value for something in real-time, doesn't mean you can get it historically.\n",
    "#The Code Creator (CODECR) app, along with Data Item Browser (DIB) are your friends!\n",
    "#They help you determine (along with some trial and error), which fields are best suited for your application."
   ]
  },
  {
   "cell_type": "code",
   "execution_count": null,
   "metadata": {},
   "outputs": [],
   "source": [
    "dfts, err = ek.get_data(ricList, ts_fields,\n",
    "    parameters = {    #Time-series parameters\n",
    "        'SDate':'0',\n",
    "        'EDate':'-365 '  #Last 365 days\n",
    "    }\n",
    ")\n",
    "\n",
    "display(dfts)\n",
    "display(dfts.info())"
   ]
  },
  {
   "cell_type": "code",
   "execution_count": null,
   "metadata": {},
   "outputs": [],
   "source": [
    "# Note the last bond doesn't have Spread values...  and it shouldn't have - Dated 2019-11-14!\n",
    "# Check out the RIC in Eikon - you can see the Dated / First / Last Coupon, and it will even give you the field:  TR.FIFirstCouponDate if you want to bring it in later"
   ]
  },
  {
   "cell_type": "markdown",
   "metadata": {},
   "source": [
    "### Prepare the data for plotting"
   ]
  },
  {
   "cell_type": "code",
   "execution_count": null,
   "metadata": {},
   "outputs": [],
   "source": [
    "dfts.sort_values(by=['Date'],inplace=True)          #Sorts by date for plotting\n",
    "dfts['Date'] = pd.to_datetime(dfts['Date'])         #Makes it a date field\n",
    "dfts['Date'] = dfts['Date'].dt.strftime(\"%Y-%m-%d\") #Formats the date\n",
    "dfts\n"
   ]
  },
  {
   "cell_type": "markdown",
   "metadata": {},
   "source": [
    "### Merge the reference data from the first dataframe into my time series dataframe"
   ]
  },
  {
   "cell_type": "code",
   "execution_count": null,
   "metadata": {},
   "outputs": [],
   "source": [
    "#First, let's take a look at the original dataframe, and time-series dataframe:\n",
    "display(df.head(1))\n",
    "display(dfts.head(1))"
   ]
  },
  {
   "cell_type": "markdown",
   "metadata": {},
   "source": [
    "#### Rename one of the \"Instrument\" field names"
   ]
  },
  {
   "cell_type": "code",
   "execution_count": null,
   "metadata": {},
   "outputs": [],
   "source": [
    "#To merge/join frames, the key names need to be different, so I'll rename the key 'Instrument' to 'RIC' in the original \"df\" dataframe\n",
    "df.rename(columns = {'Instrument':'RIC'}, inplace = True)\n",
    "display(df.head(1))\n",
    "display(dfts.head(1))"
   ]
  },
  {
   "cell_type": "code",
   "execution_count": null,
   "metadata": {},
   "outputs": [],
   "source": [
    "#Create a new, merged, dataframe \n",
    "df_merged = dfts.merge(df[['RIC','Coupon Rate','Description','First Coupon Date','Issuer Name','Maturity Date','Amount Outstanding']], left_on='Instrument', right_on='RIC')\n",
    "df_merged"
   ]
  },
  {
   "cell_type": "markdown",
   "metadata": {},
   "source": [
    "### Convert the data to 'long' format"
   ]
  },
  {
   "cell_type": "code",
   "execution_count": null,
   "metadata": {},
   "outputs": [],
   "source": [
    "df_long_ts=pd.melt(df_merged,id_vars=['Date','Instrument','Description','Maturity Date','Coupon Rate','Modified Duration','Amount Outstanding'],\n",
    "                   value_vars=['Z Spread','Benchmark Spread'],var_name='Spread',value_name='bps') \n",
    "df_long_ts.sort_values(by=['Date'],inplace=True) #Resort by date (for plotting reasons)\n"
   ]
  },
  {
   "cell_type": "markdown",
   "metadata": {},
   "source": [
    "### Build the scatter plot using 'Date' for the slider"
   ]
  },
  {
   "cell_type": "code",
   "execution_count": null,
   "metadata": {},
   "outputs": [],
   "source": [
    "fig = px.scatter(df_long_ts, x='Modified Duration', y='bps', animation_frame='Date', animation_group='Instrument',\n",
    "                 size='Amount Outstanding', size_max=45, color=\"Spread\", template='plotly_dark',\n",
    "                 hover_name='Instrument',\n",
    "                 #hover_data=['Description','Coupon Rate','Modified Duration','Amount Outstanding','Spread','bps'],\n",
    "                 #Adjusting the x and y ranges....\n",
    "                 range_x=[df_long_ts['Modified Duration'].min()/1.1, df_long_ts['Modified Duration'].max()*1.1],  \n",
    "                 range_y=[df_long_ts['bps'].min()/1.2, df_long_ts['bps'].max()*1.2],\n",
    "                 height=800\n",
    "                )\n",
    "\n",
    "#fig[\"layout\"].pop(\"updatemenus\") # optional, drop animation buttons\n",
    "fig.layout.updatemenus[0].buttons[0].args[1][\"frame\"][\"duration\"] = 40 # changes the frame rate to 50 milliseconds\n",
    "fig.show()"
   ]
  },
  {
   "cell_type": "code",
   "execution_count": null,
   "metadata": {},
   "outputs": [],
   "source": []
  },
  {
   "cell_type": "markdown",
   "metadata": {},
   "source": [
    "# Curve Spread Example\n",
    "### Four different spreads, over time - Z Spread, Government Spread, Swap Spread & Asset Swap Spread\n",
    "### Petroleos Mexicanos USD Global Agency Curve"
   ]
  },
  {
   "cell_type": "markdown",
   "metadata": {},
   "source": [
    "## <u> Gather data </u>"
   ]
  },
  {
   "cell_type": "markdown",
   "metadata": {},
   "source": [
    "#### Get RICs from the Chain RIC - you can always put these in manually"
   ]
  },
  {
   "cell_type": "code",
   "execution_count": null,
   "metadata": {},
   "outputs": [],
   "source": [
    "df, err = ek.get_data(\n",
    "    instruments = ['0#PEMEXUSDGBMK='],\n",
    "    fields = ['CF_NAME','GV4_TEXT']\n",
    ")\n",
    "\n",
    "display(df)"
   ]
  },
  {
   "cell_type": "markdown",
   "metadata": {},
   "source": [
    "####  Set my RICs"
   ]
  },
  {
   "cell_type": "code",
   "execution_count": null,
   "metadata": {},
   "outputs": [],
   "source": [
    "pem_rics = df['Instrument'][2:17]\n",
    "pem_rics = [''.join(elemnt) for elemnt in pem_rics]  #Eikon formula wants a list!\n",
    "display(pem_rics)\n",
    "display(type(pem_rics))"
   ]
  },
  {
   "cell_type": "markdown",
   "metadata": {},
   "source": [
    "#### Set my fields"
   ]
  },
  {
   "cell_type": "code",
   "execution_count": null,
   "metadata": {},
   "outputs": [],
   "source": [
    "fields = ['CF_NAME','GV4_TEXT']\n",
    "          #'TR.BENCHMARKSPREAD','TR.ZSPREAD','TR.SWAPSPREAD','TR.ASSETSWAPSPREAD']"
   ]
  },
  {
   "cell_type": "markdown",
   "metadata": {},
   "source": [
    "### Get RIC reference data"
   ]
  },
  {
   "cell_type": "code",
   "execution_count": null,
   "metadata": {},
   "outputs": [],
   "source": [
    "pem_df, err = ek.get_data(pem_rics, fields)\n",
    "\n",
    "pem_df.rename(columns={'GV4_TEXT':'Tenor','CF_NAME':'Name'},inplace=True)  # Rename the columns\n",
    "\n",
    "pem_df"
   ]
  },
  {
   "cell_type": "markdown",
   "metadata": {},
   "source": [
    "### Get Time Series data"
   ]
  },
  {
   "cell_type": "code",
   "execution_count": null,
   "metadata": {},
   "outputs": [],
   "source": [
    "ts_fields = ['TR.BENCHMARKSPREAD.date','TR.BENCHMARKSPREAD','TR.ZSPREAD','TR.SWAPSPREAD','TR.ASSETSWAPSPREAD']"
   ]
  },
  {
   "cell_type": "code",
   "execution_count": null,
   "metadata": {},
   "outputs": [],
   "source": [
    "pem_ts, err = ek.get_data(pem_rics, ts_fields,\n",
    "    parameters = {    #Time-series parameters\n",
    "        'SDate':'0',\n",
    "        'EDate':'-365 '  #Last 365 days\n",
    "    }\n",
    ")\n",
    "\n",
    "pem_ts"
   ]
  },
  {
   "cell_type": "markdown",
   "metadata": {},
   "source": [
    "## Merge the reference data from the first dataframe into my time series dataframe"
   ]
  },
  {
   "cell_type": "code",
   "execution_count": null,
   "metadata": {},
   "outputs": [],
   "source": [
    "pem_df.rename(columns = {'Instrument':'RIC'}, inplace = True)  #Must rename to merge!"
   ]
  },
  {
   "cell_type": "code",
   "execution_count": null,
   "metadata": {},
   "outputs": [],
   "source": [
    "pem_merged = pem_ts.merge(pem_df[['RIC','Name','Tenor']], left_on='Instrument', right_on='RIC')\n",
    "pem_merged"
   ]
  },
  {
   "cell_type": "markdown",
   "metadata": {},
   "source": [
    "### Prepare the data for plotting"
   ]
  },
  {
   "cell_type": "code",
   "execution_count": null,
   "metadata": {},
   "outputs": [],
   "source": [
    "#  Create a new column with the Tenor years in Integer form so I can sort them for plotting purposes\n",
    "pem_merged['TenorYears'] = pem_merged['Tenor'].str.replace(r'\\D+', '').astype(int)  #Strips field to just an integer\n",
    "\n",
    "#  Sort based on TenorYears and Date fields\n",
    "pem_merged.sort_values(by=['TenorYears','Date'],inplace=True)\n",
    "pem_merged\n",
    "\n",
    "#  Human Readable Dates\n",
    "pem_merged['Date'] = pd.to_datetime(pem_merged['Date'])         #Makes it a date field\n",
    "pem_merged['Date'] = pem_merged['Date'].dt.strftime(\"%Y-%m-%d\") #Formats the date to something more readable"
   ]
  },
  {
   "cell_type": "markdown",
   "metadata": {},
   "source": [
    "### Convert to 'Long' format for plotting"
   ]
  },
  {
   "cell_type": "code",
   "execution_count": null,
   "metadata": {},
   "outputs": [],
   "source": [
    "pem_merged_long=pd.melt(pem_merged,id_vars=['Date','Instrument','Name','Tenor','TenorYears'],\n",
    "                   value_vars=['Z Spread','Benchmark Spread','Swap Spread', 'Asset Swap Spread'],var_name='Spread',value_name='bps') \n",
    "pem_merged_long"
   ]
  },
  {
   "cell_type": "markdown",
   "metadata": {},
   "source": [
    "## Plot the data"
   ]
  },
  {
   "cell_type": "code",
   "execution_count": null,
   "metadata": {},
   "outputs": [],
   "source": [
    " fig = px.scatter(pem_merged_long, x='Tenor', y='bps', animation_frame='Date', animation_group='Instrument',\n",
    "                 color=\"Spread\", template='plotly_dark',\n",
    "                 hover_name='Name',\n",
    "                 #hover_data=['Spread','bps','Tenor'],\n",
    "                 range_y=[-50, pem_merged_long['bps'].max()*1.05],  #Adjusting the x and y ranges....\n",
    "                 height=800\n",
    "               )\n",
    "\n",
    "#fig[\"layout\"].pop(\"updatemenus\") # optional, drop animation buttons\n",
    "fig.layout.updatemenus[0].buttons[0].args[1][\"frame\"][\"duration\"] = 40 # changes the frame rate in milliseconds\n",
    "fig.show()"
   ]
  },
  {
   "cell_type": "code",
   "execution_count": null,
   "metadata": {},
   "outputs": [],
   "source": []
  },
  {
   "cell_type": "code",
   "execution_count": null,
   "metadata": {},
   "outputs": [],
   "source": []
  }
 ],
 "metadata": {
  "kernelspec": {
   "display_name": "Python 3",
   "language": "python",
   "name": "python3"
  },
  "language_info": {
   "codemirror_mode": {
    "name": "ipython",
    "version": 3
   },
   "file_extension": ".py",
   "mimetype": "text/x-python",
   "name": "python",
   "nbconvert_exporter": "python",
   "pygments_lexer": "ipython3",
   "version": "3.7.4"
  }
 },
 "nbformat": 4,
 "nbformat_minor": 4
}
